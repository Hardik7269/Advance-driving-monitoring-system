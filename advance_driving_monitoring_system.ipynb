{
 "cells": [
  {
   "cell_type": "code",
   "execution_count": 1,
   "metadata": {},
   "outputs": [],
   "source": [
    "from scipy.spatial import distance as dist\n",
    "from imutils.video import VideoStream\n",
    "from imutils import face_utils\n",
    "from threading import Thread\n",
    "import numpy as np\n",
    "import argparse\n",
    "import imutils\n",
    "import time\n",
    "import dlib\n",
    "import cv2\n",
    "import os\n",
    "import time\n",
    "from grovepi import *\n",
    "import math\n",
    "from grove_rgb_lcd import *\n"
   ]
  },
  {
   "cell_type": "code",
   "execution_count": 2,
   "metadata": {},
   "outputs": [],
   "source": [
    "setRGB(158,170,169)\n",
    "setText(\"Advance Driving Monitoring System\")\n",
    "def alarm(msg):\n",
    "    global alarm_status\n",
    "    global alarm_status2\n",
    "    global saying\n",
    "\n",
    "    if alarm_status2:\n",
    "        print('call')\n",
    "        saying = True\n",
    "        s = 'espeak \"' + msg + '\"'\n",
    "        os.system(s)\n",
    "        saying = False"
   ]
  },
  {
   "cell_type": "code",
   "execution_count": 3,
   "metadata": {},
   "outputs": [],
   "source": [
    "def eye_aspect_ratio(eye):\n",
    "    A = dist.euclidean(eye[1], eye[5])\n",
    "    B = dist.euclidean(eye[2], eye[4])\n",
    "\n",
    "    C = dist.euclidean(eye[0], eye[3])\n",
    "\n",
    "    ear = (A + B) / (2.0 * C)\n",
    "\n",
    "    return ear\n",
    "\n",
    "def final_ear(shape):\n",
    "    (lStart, lEnd) = face_utils.FACIAL_LANDMARKS_IDXS[\"left_eye\"]\n",
    "    (rStart, rEnd) = face_utils.FACIAL_LANDMARKS_IDXS[\"right_eye\"]\n",
    "\n",
    "    leftEye = shape[lStart:lEnd]\n",
    "    rightEye = shape[rStart:rEnd]\n",
    "\n",
    "    leftEAR = eye_aspect_ratio(leftEye)\n",
    "    rightEAR = eye_aspect_ratio(rightEye)\n",
    "\n",
    "    ear = (leftEAR + rightEAR) / 2.0\n",
    "    return (ear, leftEye, rightEye)\n",
    "\n",
    "def lip_distance(shape):\n",
    "    top_lip = shape[50:53]\n",
    "    top_lip = np.concatenate((top_lip, shape[61:64]))\n",
    "\n",
    "    low_lip = shape[56:59]\n",
    "    low_lip = np.concatenate((low_lip, shape[65:68]))\n",
    "\n",
    "    top_mean = np.mean(top_lip, axis=0)\n",
    "    low_mean = np.mean(low_lip, axis=0)\n",
    "\n",
    "    distance = abs(top_mean[1] - low_mean[1])\n",
    "    return distance"
   ]
  },
  {
   "cell_type": "code",
   "execution_count": 4,
   "metadata": {},
   "outputs": [],
   "source": [
    "EYE_AR_THRESH = 0.3\n",
    "EYE_AR_CONSEC_FRAMES = 30\n",
    "YAWN_THRESH = 20\n",
    "alarm_status = False\n",
    "alarm_status2 = False\n",
    "saying = False\n",
    "COUNTER = 0\n",
    "bcount=0"
   ]
  },
  {
   "cell_type": "code",
   "execution_count": 5,
   "metadata": {},
   "outputs": [
    {
     "name": "stdout",
     "output_type": "stream",
     "text": [
      "-> Loading the predictor and detector...\n"
     ]
    }
   ],
   "source": [
    "print(\"-> Loading the predictor and detector...\")\n",
    "#detector = dlib.get_frontal_face_detector()\n",
    "detector = cv2.CascadeClassifier(\"haarcascade_frontalface_default.xml\")    #Faster but less accurate\n",
    "predictor = dlib.shape_predictor('shape_predictor_68_face_landmarks.dat')"
   ]
  },
  {
   "cell_type": "code",
   "execution_count": 6,
   "metadata": {},
   "outputs": [
    {
     "name": "stdout",
     "output_type": "stream",
     "text": [
      "-> Starting Video Stream\n"
     ]
    }
   ],
   "source": [
    "print(\"-> Starting Video Stream\")\n",
    "vs = VideoStream(src=0).start()\n",
    "#vs= VideoStream(usePiCamera=True).start()       //For Raspberry Pi\n",
    "time.sleep(1.0)"
   ]
  },
  {
   "cell_type": "code",
   "execution_count": 7,
   "metadata": {},
   "outputs": [
    {
     "name": "stdout",
     "output_type": "stream",
     "text": [
      "call\n",
      "call\n",
      "call\n"
     ]
    },
    {
     "ename": "KeyboardInterrupt",
     "evalue": "",
     "output_type": "error",
     "traceback": [
      "\u001b[0;31m---------------------------------------------------------------------------\u001b[0m",
      "\u001b[0;31mKeyboardInterrupt\u001b[0m                         Traceback (most recent call last)",
      "\u001b[0;32m/tmp/ipykernel_3162/1519657446.py\u001b[0m in \u001b[0;36m<module>\u001b[0;34m\u001b[0m\n\u001b[1;32m     90\u001b[0m                 \u001b[0;31m#**** system is slipping for 2 sec to display ************\u001b[0m\u001b[0;34m\u001b[0m\u001b[0;34m\u001b[0m\u001b[0;34m\u001b[0m\u001b[0m\n\u001b[1;32m     91\u001b[0m                 \u001b[0msetText\u001b[0m\u001b[0;34m(\u001b[0m\u001b[0;34m\"Yawn Alert,      Take some fresh air\"\u001b[0m\u001b[0;34m)\u001b[0m\u001b[0;34m\u001b[0m\u001b[0;34m\u001b[0m\u001b[0m\n\u001b[0;32m---> 92\u001b[0;31m                 \u001b[0mtime\u001b[0m\u001b[0;34m.\u001b[0m\u001b[0msleep\u001b[0m\u001b[0;34m(\u001b[0m\u001b[0;36m2\u001b[0m\u001b[0;34m)\u001b[0m\u001b[0;34m\u001b[0m\u001b[0;34m\u001b[0m\u001b[0m\n\u001b[0m\u001b[1;32m     93\u001b[0m                 \u001b[0msetRGB\u001b[0m\u001b[0;34m(\u001b[0m\u001b[0;36m20\u001b[0m\u001b[0;34m,\u001b[0m\u001b[0;36m255\u001b[0m\u001b[0;34m,\u001b[0m\u001b[0;36m0\u001b[0m\u001b[0;34m)\u001b[0m\u001b[0;34m\u001b[0m\u001b[0;34m\u001b[0m\u001b[0m\n\u001b[1;32m     94\u001b[0m                 \u001b[0msetText\u001b[0m\u001b[0;34m(\u001b[0m\u001b[0;34m\"Drive Safe\"\u001b[0m\u001b[0;34m)\u001b[0m\u001b[0;34m\u001b[0m\u001b[0;34m\u001b[0m\u001b[0m\n",
      "\u001b[0;31mKeyboardInterrupt\u001b[0m: "
     ]
    }
   ],
   "source": [
    "while True:\n",
    "\n",
    "    frame = vs.read()\n",
    "    frame = imutils.resize(frame, width=450)\n",
    "    gray = cv2.cvtColor(frame, cv2.COLOR_BGR2GRAY)\n",
    "\n",
    "    #rects = detector(gray, 0)\n",
    "    rects = detector.detectMultiScale(gray, scaleFactor=1.1, \n",
    "        minNeighbors=5, minSize=(30, 30),\n",
    "        flags=cv2.CASCADE_SCALE_IMAGE)\n",
    "\n",
    "    #for rect in rects:\n",
    "    for (x, y, w, h) in rects:\n",
    "        rect = dlib.rectangle(int(x), int(y), int(x + w),int(y + h))\n",
    "        \n",
    "        shape = predictor(gray, rect)\n",
    "        shape = face_utils.shape_to_np(shape)\n",
    "\n",
    "        eye = final_ear(shape)\n",
    "        ear = eye[0]\n",
    "        leftEye = eye [1]\n",
    "        rightEye = eye[2]\n",
    "\n",
    "        distance = lip_distance(shape)\n",
    "\n",
    "        leftEyeHull = cv2.convexHull(leftEye)\n",
    "        rightEyeHull = cv2.convexHull(rightEye)\n",
    "        cv2.drawContours(frame, [leftEyeHull], -1, (0, 255, 0), 1)\n",
    "        cv2.drawContours(frame, [rightEyeHull], -1, (0, 255, 0), 1)\n",
    "\n",
    "        lip = shape[48:60]\n",
    "        cv2.drawContours(frame, [lip], -1, (0, 255, 0), 1)\n",
    "\n",
    "        if ear < EYE_AR_THRESH:\n",
    "            COUNTER += 1\n",
    "\n",
    "            if COUNTER >= EYE_AR_CONSEC_FRAMES:\n",
    "                if alarm_status == False:\n",
    "                    alarm_status = True\n",
    "                    bcount=1\n",
    "                    t = Thread(target=alarm, args=('wake up sir',))\n",
    "                    t.deamon = True\n",
    "                    t.start()\n",
    "                    #**************************************************************\n",
    "                    buzzer_pin = 3       #Port for buzzer\n",
    "                    button = 2           #Port for Button\n",
    "\n",
    "                    pinMode(buzzer_pin,\"OUTPUT\")\t# Assign mode for buzzer as output\n",
    "                    pinMode(button,\"INPUT\")\t\t# Assign mode for Button as input\n",
    "                    while True:\n",
    "                        try:\n",
    "                            button_status= digitalRead(button)\t#Read the Button status \n",
    "                            \n",
    "                            if button_status == 1:\t#If the Button is in HIGH position, run the program\n",
    "                                digitalWrite(buzzer_pin,0)\n",
    "                                break\n",
    "\n",
    "                                # print \"\\tBuzzing\"\t\t\t\n",
    "                            else:\t\t#If Button is in Off position, print \"Off\" on the screen\n",
    "                                digitalWrite(buzzer_pin,1)\n",
    "                                \n",
    "                                if(bcount==1):\n",
    "                                    setRGB(255,0,0)\n",
    "                                    setText(\"Wake Up sir,    Press the Button\")\n",
    "                                bcount=bcount+1\n",
    "    \n",
    "                        except KeyboardInterrupt:\t# Stop the buzzer before stopping\n",
    "                            #digitalWrite(buzzer_pin,1)\n",
    "                            setText(\"Entered in the exception area\")\n",
    "                            break\n",
    "                        except (IOError,TypeError) as e:\n",
    "                            print(\"Error\")\n",
    "                    setRGB(20,255,0)\n",
    "                    setText(\"Drive Safe\")\n",
    "                    bcount=0\n",
    "                    #*******************************************************\n",
    "\n",
    "#                 cv2.putText(frame, \"DROWSINESS ALERT!\", (10, 30),\n",
    "#                             cv2.FONT_HERSHEY_SIMPLEX, 0.7, (0, 0, 255), 2)\n",
    "\n",
    "        else:\n",
    "            COUNTER = 0\n",
    "            alarm_status = False\n",
    "\n",
    "        if (distance > YAWN_THRESH):\n",
    "                setRGB(255,95,0)\n",
    "                #**** system is slipping for 2 sec to display ************\n",
    "                setText(\"Yawn Alert,      Take some fresh air\")\n",
    "                time.sleep(2)\n",
    "                setRGB(20,255,0)\n",
    "                setText(\"Drive Safe\")\n",
    "                if alarm_status2 == False and saying == False:\n",
    "                    alarm_status2 = True\n",
    "                    t = Thread(target=alarm, args=('take some fresh air sir',))\n",
    "                    t.deamon = True\n",
    "                    t.start()\n",
    "        else:\n",
    "            alarm_status2 = False\n",
    "        #this text is for frame view text(right top)\n",
    "        cv2.putText(frame, \"EAR: {:.2f}\".format(ear), (300, 30),\n",
    "                    cv2.FONT_HERSHEY_SIMPLEX, 0.7, (0, 0, 255), 2)\n",
    "        cv2.putText(frame, \"YAWN: {:.2f}\".format(distance), (300, 60),\n",
    "                    cv2.FONT_HERSHEY_SIMPLEX, 0.7, (0, 0, 255), 2)\n",
    "\n",
    "\n",
    "    cv2.imshow(\"Frame\", frame)\n",
    "    key = cv2.waitKey(1) & 0xFF\n",
    "\n",
    "    if key == ord(\"q\"):\n",
    "        break\n",
    "\n",
    "cv2.destroyAllWindows()\n",
    "vs.stop()"
   ]
  },
  {
   "cell_type": "code",
   "execution_count": null,
   "metadata": {},
   "outputs": [],
   "source": []
  }
 ],
 "metadata": {
  "kernelspec": {
   "display_name": "Python 3 (ipykernel)",
   "language": "python",
   "name": "python3"
  },
  "language_info": {
   "codemirror_mode": {
    "name": "ipython",
    "version": 3
   },
   "file_extension": ".py",
   "mimetype": "text/x-python",
   "name": "python",
   "nbconvert_exporter": "python",
   "pygments_lexer": "ipython3",
   "version": "3.10.5"
  }
 },
 "nbformat": 4,
 "nbformat_minor": 2
}
